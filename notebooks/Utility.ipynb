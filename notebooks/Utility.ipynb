{
 "cells": [
  {
   "cell_type": "markdown",
   "metadata": {},
   "source": [
    "# About the News Feed Python"
   ]
  },
  {
   "cell_type": "markdown",
   "metadata": {},
   "source": [
    "This is a set of scripts for aggregating RSS feeds. It's based on a script originally written by Dr. Drang: http://leancrew.com/all-this/2015/11/simpler-syndication/ I'm not owner of code."
   ]
  },
  {
   "cell_type": "markdown",
   "metadata": {},
   "source": [
    "## First, install packages"
   ]
  },
  {
   "cell_type": "code",
   "execution_count": null,
   "metadata": {},
   "outputs": [],
   "source": [
    "!pip uninstall feedparser\n",
    "!pip uninstall Jinja2\n",
    "!pip install MarkupSafe\n",
    "!pip install pytz\n",
    "!pip install wheel"
   ]
  },
  {
   "cell_type": "markdown",
   "metadata": {},
   "source": [
    "## Then"
   ]
  },
  {
   "cell_type": "code",
   "execution_count": 2,
   "metadata": {},
   "outputs": [],
   "source": [
    "# coding=utf8\n",
    "import collections\n",
    "from datetime import datetime, timedelta\n",
    "import time\n",
    "import configparser\n",
    "import feedparser\n",
    "import jinja2\n",
    "import pytz"
   ]
  },
  {
   "cell_type": "code",
   "execution_count": 3,
   "metadata": {},
   "outputs": [],
   "source": [
    "config = configparser.ConfigParser()"
   ]
  },
  {
   "cell_type": "markdown",
   "metadata": {},
   "source": [
    "## Configure metadata"
   ]
  },
  {
   "cell_type": "code",
   "execution_count": 4,
   "metadata": {},
   "outputs": [],
   "source": [
    "from extras import normalise_post"
   ]
  },
  {
   "cell_type": "markdown",
   "metadata": {},
   "source": [
    "## Setup code"
   ]
  },
  {
   "cell_type": "code",
   "execution_count": 5,
   "metadata": {},
   "outputs": [],
   "source": [
    "# Get a list of feed URLs\n",
    "with open('feeds.txt') as f:\n",
    "    SUBSCRIPTIONS = list(f)\n",
    "\n",
    "# Date and time setup. I want only posts from \"today\" and \"yesterday\",\n",
    "# where the day lasts until 2 AM.\n",
    "TIMEZONE = config.get(section='default', option='timezone', fallback='GMT')\n",
    "\n",
    "# Get the current time in the home timezone, then step back to include\n",
    "# the last two days.\n",
    "home_tz = pytz.timezone(TIMEZONE)\n",
    "dt = datetime.now(home_tz)\n",
    "if dt.hour < 2:\n",
    "    dt -= timedelta(hours=72)\n",
    "else:\n",
    "    dt -= timedelta(hours=48)\n",
    "start = dt.replace(hour=0, minute=0, second=0, microsecond=0)"
   ]
  },
  {
   "cell_type": "code",
   "execution_count": 6,
   "metadata": {},
   "outputs": [],
   "source": [
    "# Convert this time back into UTC.\n",
    "utc = pytz.utc\n",
    "START = start.astimezone(utc)\n",
    "\n",
    "\n",
    "Post = collections.namedtuple('Post', [\n",
    "    'time',\n",
    "    'blog',\n",
    "    'title',\n",
    "    'author',\n",
    "    'link',\n",
    "    'body'\n",
    "])\n"
   ]
  },
  {
   "cell_type": "code",
   "execution_count": 7,
   "metadata": {},
   "outputs": [],
   "source": [
    "def process_entry(entry, blog):\n",
    "    \"\"\"\n",
    "    Coerces an entry from feedparser into a Post tuple.\n",
    "    Returns None if the entry should be excluded.\n",
    "    \"\"\"\n",
    "    # Get the date of the post.  If it was published more than two days\n",
    "    # ago, drop the entry.\n",
    "    try:\n",
    "        when = entry['updated_parsed']\n",
    "    except KeyError:\n",
    "        when = entry['published_parsed']\n",
    "    when = utc.localize(datetime.fromtimestamp(time.mktime(when)))\n",
    "\n",
    "    if when < START:\n",
    "        return\n",
    "\n",
    "    title = entry['title']\n",
    "    try:\n",
    "        author = entry['author']\n",
    "    except KeyError:\n",
    "        author = ', '.join(a['name'] for a in entry.get('authors', []))\n",
    "    link = entry['link']\n",
    "    try:\n",
    "        body = entry['content'][0]['value']\n",
    "    except KeyError:\n",
    "        body = entry['summary']\n",
    "\n",
    "    return normalise_post(Post(when, blog, title, author, link, body))\n",
    "\n",
    "\n",
    "posts = []"
   ]
  },
  {
   "cell_type": "code",
   "execution_count": 8,
   "metadata": {},
   "outputs": [],
   "source": [
    "for url in SUBSCRIPTIONS:\n",
    "    feed = feedparser.parse(url)\n",
    "    try:\n",
    "        blog = feed['feed']['title']\n",
    "    except KeyError:\n",
    "        continue\n",
    "    for entry in feed['entries']:\n",
    "        post = process_entry(entry, blog)\n",
    "        if post:\n",
    "            posts.append(post)\n",
    "\n",
    "# Get the template, and drop in the posts\n",
    "with open('template.html', encoding='utf8') as f:\n",
    "    template = jinja2.Template(f.read())\n",
    "\n",
    "with open('index.html', 'w', encoding='utf8') as f:\n",
    "    f.write(template.render(posts=posts, time=datetime.now()))"
   ]
  }
 ],
 "metadata": {
  "kernelspec": {
   "display_name": "Python 3",
   "language": "python",
   "name": "python3"
  },
  "language_info": {
   "codemirror_mode": {
    "name": "ipython",
    "version": 3
   },
   "file_extension": ".py",
   "mimetype": "text/x-python",
   "name": "python",
   "nbconvert_exporter": "python",
   "pygments_lexer": "ipython3",
   "version": "3.8.3"
  }
 },
 "nbformat": 4,
 "nbformat_minor": 4
}
